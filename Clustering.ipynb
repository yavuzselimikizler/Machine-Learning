{
  "nbformat": 4,
  "nbformat_minor": 0,
  "metadata": {
    "colab": {
      "provenance": [],
      "mount_file_id": "18sjxkfDVKVriY-FkHKx_WL2oRzUxHng3",
      "authorship_tag": "ABX9TyPnWbuco0YHfoVb1xlXIXzp",
      "include_colab_link": true
    },
    "kernelspec": {
      "name": "python3",
      "display_name": "Python 3"
    },
    "language_info": {
      "name": "python"
    }
  },
  "cells": [
    {
      "cell_type": "markdown",
      "metadata": {
        "id": "view-in-github",
        "colab_type": "text"
      },
      "source": [
        "<a href=\"https://colab.research.google.com/github/yavuzselimikizler/Machine-Learning/blob/main/Clustering.ipynb\" target=\"_parent\"><img src=\"https://colab.research.google.com/assets/colab-badge.svg\" alt=\"Open In Colab\"/></a>"
      ]
    },
    {
      "cell_type": "code",
      "execution_count": 1,
      "metadata": {
        "id": "VLz9fxGiG2Rt"
      },
      "outputs": [],
      "source": [
        "from keras.datasets import mnist\n",
        "import numpy as np\n",
        "import math \n",
        "\n",
        "from sklearn.datasets import make_blobs\n",
        "from sklearn.cluster import KMeans\n",
        "from sklearn.metrics import silhouette_score\n",
        "from sklearn.preprocessing import StandardScaler"
      ]
    },
    {
      "cell_type": "code",
      "source": [
        "(train_X, train_Y) ,(test_X, test_y)= mnist.load_data()"
      ],
      "metadata": {
        "id": "QBnpJhKUHLrI",
        "colab": {
          "base_uri": "https://localhost:8080/"
        },
        "outputId": "364efb54-d5db-475b-c13b-7c91d5a515e5"
      },
      "execution_count": 2,
      "outputs": [
        {
          "output_type": "stream",
          "name": "stdout",
          "text": [
            "Downloading data from https://storage.googleapis.com/tensorflow/tf-keras-datasets/mnist.npz\n",
            "11490434/11490434 [==============================] - 0s 0us/step\n"
          ]
        }
      ]
    },
    {
      "cell_type": "code",
      "source": [
        "from sklearn.model_selection import StratifiedKFold\n",
        "full_data=np.array_split(train_X, 5)\n",
        "skf = StratifiedKFold(n_splits=5, shuffle=True, random_state=2)\n",
        "\n",
        "s1 = np.random.choice(range(len(train_X)), 60000, replace=False)\n",
        "\"\"\"for train_index in skf.split(train_X,train_Y):\n",
        "  print(len(train_index[0]))\"\"\"\n",
        "\"\"\"train_x=train_X[train_index,:,:]\n",
        "   train_x=train_Y[train_index,:,:]\"\"\"\n",
        "\n",
        "train_x=train_X[s1,:,:]\n",
        "train_y=train_Y[s1]\n"
      ],
      "metadata": {
        "id": "UZq9WWmrHPET"
      },
      "execution_count": 3,
      "outputs": []
    },
    {
      "cell_type": "code",
      "source": [
        "from sklearn.decomposition import PCA\n",
        "from sklearn.preprocessing import MinMaxScaler\n",
        "x_train=[]\n",
        "y_train=[]\n",
        "new_list=[]\n",
        "#print(train_x[0])\n",
        "for j in  train_x:\n",
        "  new_list.append(j.flatten())\n",
        "new_list=np.array(new_list)\n",
        "\n",
        "scaler = MinMaxScaler()\n",
        "new_list = scaler.fit_transform(new_list)\n",
        "#print(new_list[0])\n",
        "pca = PCA(n_components = 284)\n",
        "  \n",
        "x_train = pca.fit_transform(new_list)\n",
        "#x_train=PCA(new_list ,5)\n",
        "\n",
        "for i in range(len(new_list)):\n",
        "\n",
        " \n",
        " y_train.append(train_y[i])"
      ],
      "metadata": {
        "id": "yzGZtFA-HV0r"
      },
      "execution_count": 4,
      "outputs": []
    },
    {
      "cell_type": "code",
      "source": [
        "from sklearn.model_selection import train_test_split\n",
        "\n",
        "data_train, data_test, labels_train, labels_test = train_test_split(x_train, y_train, test_size=0.20, random_state=42)\n",
        "data_train2, data_test2, labels_train2, labels_test2 = train_test_split(train_x, y_train, test_size=0.20, random_state=42)"
      ],
      "metadata": {
        "id": "TM45y66rHg5b"
      },
      "execution_count": 5,
      "outputs": []
    },
    {
      "cell_type": "markdown",
      "source": [
        "Create 10 Different Labels."
      ],
      "metadata": {
        "id": "LMYnBFPQnheB"
      }
    },
    {
      "cell_type": "code",
      "source": [
        "\n",
        "kmeans = KMeans(\n",
        "   ...:     init=\"random\",\n",
        "   ...:     n_clusters=10,\n",
        "   ...:     n_init=10,\n",
        "   ...:     max_iter=300,\n",
        "   ...:     random_state=42\n",
        "   ...: )"
      ],
      "metadata": {
        "id": "DABGhWEUHrtA"
      },
      "execution_count": 6,
      "outputs": []
    },
    {
      "cell_type": "code",
      "source": [
        "kmeans.fit(data_train)"
      ],
      "metadata": {
        "colab": {
          "base_uri": "https://localhost:8080/",
          "height": 74
        },
        "id": "jJ-q5yY5ImAR",
        "outputId": "017a65b7-e6fb-4156-e8ca-509ed231fadb"
      },
      "execution_count": 7,
      "outputs": [
        {
          "output_type": "execute_result",
          "data": {
            "text/plain": [
              "KMeans(init='random', n_clusters=10, n_init=10, random_state=42)"
            ],
            "text/html": [
              "<style>#sk-container-id-1 {color: black;background-color: white;}#sk-container-id-1 pre{padding: 0;}#sk-container-id-1 div.sk-toggleable {background-color: white;}#sk-container-id-1 label.sk-toggleable__label {cursor: pointer;display: block;width: 100%;margin-bottom: 0;padding: 0.3em;box-sizing: border-box;text-align: center;}#sk-container-id-1 label.sk-toggleable__label-arrow:before {content: \"▸\";float: left;margin-right: 0.25em;color: #696969;}#sk-container-id-1 label.sk-toggleable__label-arrow:hover:before {color: black;}#sk-container-id-1 div.sk-estimator:hover label.sk-toggleable__label-arrow:before {color: black;}#sk-container-id-1 div.sk-toggleable__content {max-height: 0;max-width: 0;overflow: hidden;text-align: left;background-color: #f0f8ff;}#sk-container-id-1 div.sk-toggleable__content pre {margin: 0.2em;color: black;border-radius: 0.25em;background-color: #f0f8ff;}#sk-container-id-1 input.sk-toggleable__control:checked~div.sk-toggleable__content {max-height: 200px;max-width: 100%;overflow: auto;}#sk-container-id-1 input.sk-toggleable__control:checked~label.sk-toggleable__label-arrow:before {content: \"▾\";}#sk-container-id-1 div.sk-estimator input.sk-toggleable__control:checked~label.sk-toggleable__label {background-color: #d4ebff;}#sk-container-id-1 div.sk-label input.sk-toggleable__control:checked~label.sk-toggleable__label {background-color: #d4ebff;}#sk-container-id-1 input.sk-hidden--visually {border: 0;clip: rect(1px 1px 1px 1px);clip: rect(1px, 1px, 1px, 1px);height: 1px;margin: -1px;overflow: hidden;padding: 0;position: absolute;width: 1px;}#sk-container-id-1 div.sk-estimator {font-family: monospace;background-color: #f0f8ff;border: 1px dotted black;border-radius: 0.25em;box-sizing: border-box;margin-bottom: 0.5em;}#sk-container-id-1 div.sk-estimator:hover {background-color: #d4ebff;}#sk-container-id-1 div.sk-parallel-item::after {content: \"\";width: 100%;border-bottom: 1px solid gray;flex-grow: 1;}#sk-container-id-1 div.sk-label:hover label.sk-toggleable__label {background-color: #d4ebff;}#sk-container-id-1 div.sk-serial::before {content: \"\";position: absolute;border-left: 1px solid gray;box-sizing: border-box;top: 0;bottom: 0;left: 50%;z-index: 0;}#sk-container-id-1 div.sk-serial {display: flex;flex-direction: column;align-items: center;background-color: white;padding-right: 0.2em;padding-left: 0.2em;position: relative;}#sk-container-id-1 div.sk-item {position: relative;z-index: 1;}#sk-container-id-1 div.sk-parallel {display: flex;align-items: stretch;justify-content: center;background-color: white;position: relative;}#sk-container-id-1 div.sk-item::before, #sk-container-id-1 div.sk-parallel-item::before {content: \"\";position: absolute;border-left: 1px solid gray;box-sizing: border-box;top: 0;bottom: 0;left: 50%;z-index: -1;}#sk-container-id-1 div.sk-parallel-item {display: flex;flex-direction: column;z-index: 1;position: relative;background-color: white;}#sk-container-id-1 div.sk-parallel-item:first-child::after {align-self: flex-end;width: 50%;}#sk-container-id-1 div.sk-parallel-item:last-child::after {align-self: flex-start;width: 50%;}#sk-container-id-1 div.sk-parallel-item:only-child::after {width: 0;}#sk-container-id-1 div.sk-dashed-wrapped {border: 1px dashed gray;margin: 0 0.4em 0.5em 0.4em;box-sizing: border-box;padding-bottom: 0.4em;background-color: white;}#sk-container-id-1 div.sk-label label {font-family: monospace;font-weight: bold;display: inline-block;line-height: 1.2em;}#sk-container-id-1 div.sk-label-container {text-align: center;}#sk-container-id-1 div.sk-container {/* jupyter's `normalize.less` sets `[hidden] { display: none; }` but bootstrap.min.css set `[hidden] { display: none !important; }` so we also need the `!important` here to be able to override the default hidden behavior on the sphinx rendered scikit-learn.org. See: https://github.com/scikit-learn/scikit-learn/issues/21755 */display: inline-block !important;position: relative;}#sk-container-id-1 div.sk-text-repr-fallback {display: none;}</style><div id=\"sk-container-id-1\" class=\"sk-top-container\"><div class=\"sk-text-repr-fallback\"><pre>KMeans(init=&#x27;random&#x27;, n_clusters=10, n_init=10, random_state=42)</pre><b>In a Jupyter environment, please rerun this cell to show the HTML representation or trust the notebook. <br />On GitHub, the HTML representation is unable to render, please try loading this page with nbviewer.org.</b></div><div class=\"sk-container\" hidden><div class=\"sk-item\"><div class=\"sk-estimator sk-toggleable\"><input class=\"sk-toggleable__control sk-hidden--visually\" id=\"sk-estimator-id-1\" type=\"checkbox\" checked><label for=\"sk-estimator-id-1\" class=\"sk-toggleable__label sk-toggleable__label-arrow\">KMeans</label><div class=\"sk-toggleable__content\"><pre>KMeans(init=&#x27;random&#x27;, n_clusters=10, n_init=10, random_state=42)</pre></div></div></div></div></div>"
            ]
          },
          "metadata": {},
          "execution_count": 7
        }
      ]
    },
    {
      "cell_type": "code",
      "source": [
        "full_labels=[]\n",
        "full_kmeans=[]\n",
        "max_index=0\n",
        "\n",
        "for i in range(0,10):\n",
        "  row_labels=[]\n",
        "  for j in range(len(labels_train)):\n",
        "    if i==labels_train[j]:\n",
        "      row_labels.append(j)\n",
        "  full_labels.append(row_labels)\n",
        "\n",
        "#full_labels=np.array(full_labels)\n",
        "for i in range(10):\n",
        "  print(labels_train[full_labels[2][i]])\n",
        "print(len(full_labels[1]))\n",
        "print(kmeans.labels_)\n",
        "#print(kmeans.labels_[0])\n",
        "\n",
        "for i in range(0,10):\n",
        "  row_labels=[]\n",
        "  for j in range(len(kmeans.labels_)):\n",
        "    if i==kmeans.labels_[j]:\n",
        "      row_labels.append(j)\n",
        "  full_kmeans.append(row_labels)\n",
        "\n",
        "for i in range(10):\n",
        "  print(kmeans.labels_[full_kmeans[2][i]])\n",
        "\n"
      ],
      "metadata": {
        "colab": {
          "base_uri": "https://localhost:8080/"
        },
        "id": "VI6-_k65Iu9X",
        "outputId": "14e5006c-6610-4259-8f87-f454a0afac6a"
      },
      "execution_count": 10,
      "outputs": [
        {
          "output_type": "stream",
          "name": "stdout",
          "text": [
            "2\n",
            "2\n",
            "2\n",
            "2\n",
            "2\n",
            "2\n",
            "2\n",
            "2\n",
            "2\n",
            "2\n",
            "5384\n",
            "[1 0 2 ... 7 4 3]\n",
            "2\n",
            "2\n",
            "2\n",
            "2\n",
            "2\n",
            "2\n",
            "2\n",
            "2\n",
            "2\n",
            "2\n"
          ]
        }
      ]
    },
    {
      "cell_type": "markdown",
      "source": [
        "Assign the Clustering Labels and Print Their Occurances"
      ],
      "metadata": {
        "id": "FdYg-xW9khRw"
      }
    },
    {
      "cell_type": "code",
      "source": [
        "full_labels=[]\n",
        "full_kmeans=[]\n",
        "max_index=0\n",
        "\n",
        "for i in range(0,10):\n",
        "  row_labels=[]\n",
        "  for j in range(len(labels_train)):\n",
        "    if i==labels_train[j]:\n",
        "      row_labels.append(j)\n",
        "  full_labels.append(row_labels)\n",
        "\n",
        "#full_labels=np.array(full_labels)\n",
        "\n",
        "#print(kmeans.labels_[0])\n",
        "\n",
        "for i in range(0,10):\n",
        "  row_labels=[]\n",
        "  for j in range(len(kmeans.labels_)):\n",
        "    if i==kmeans.labels_[j]:\n",
        "      row_labels.append(j)\n",
        "  full_kmeans.append(row_labels)\n",
        "\n",
        "\n",
        "train_labels_list=[]\n",
        "kmeans_labels_list=[]\n",
        "full_labels=np.array(full_labels)\n",
        "full_kmeans=np.array(full_kmeans)\n",
        "current_label=0\n",
        "current_kmeans=0\n",
        "deleted_k=0\n",
        "deleted_l=0\n",
        "while len(train_labels_list)<10:\n",
        "\n",
        "  max_value=0\n",
        "  for k in range(len(full_labels)):\n",
        "   for i in range(len(full_kmeans)):\n",
        "    value_counter=0\n",
        "\n",
        "    for j in range(len(full_kmeans[i])):\n",
        "      \n",
        "      \n",
        "      \n",
        "        if full_kmeans[i][j] in full_labels[k]:\n",
        "          value_counter+=1\n",
        "    if value_counter> max_value:\n",
        "      max_value=value_counter\n",
        "      current_label=full_labels[k][0]\n",
        "      current_kmeans=full_kmeans[i][0]\n",
        "      deleted_l=k\n",
        "      deleted_k=i\n",
        "\n",
        "  print(max_value)\n",
        "  train_labels_list.append(labels_train[current_label])\n",
        "  kmeans_labels_list.append(kmeans.labels_[current_kmeans])\n",
        "  full_labels=np.delete(full_labels,deleted_l,0)\n",
        "  full_kmeans=np.delete(full_kmeans,deleted_k,0)\n",
        "  print(len(full_labels))\n",
        "\n"
      ],
      "metadata": {
        "colab": {
          "base_uri": "https://localhost:8080/"
        },
        "id": "Xj3iJyXgZEf2",
        "outputId": "6935f430-766c-48c7-c653-64335d2ed2e2"
      },
      "execution_count": 11,
      "outputs": [
        {
          "output_type": "stream",
          "name": "stderr",
          "text": [
            "<ipython-input-11-3049b4af8422>:26: VisibleDeprecationWarning: Creating an ndarray from ragged nested sequences (which is a list-or-tuple of lists-or-tuples-or ndarrays with different lengths or shapes) is deprecated. If you meant to do this, you must specify 'dtype=object' when creating the ndarray.\n",
            "  full_labels=np.array(full_labels)\n",
            "<ipython-input-11-3049b4af8422>:27: VisibleDeprecationWarning: Creating an ndarray from ragged nested sequences (which is a list-or-tuple of lists-or-tuples-or ndarrays with different lengths or shapes) is deprecated. If you meant to do this, you must specify 'dtype=object' when creating the ndarray.\n",
            "  full_kmeans=np.array(full_kmeans)\n"
          ]
        },
        {
          "output_type": "stream",
          "name": "stdout",
          "text": [
            "3422\n",
            "9\n",
            "3303\n",
            "8\n",
            "3178\n",
            "7\n",
            "3081\n",
            "6\n",
            "3076\n",
            "5\n",
            "2909\n",
            "4\n",
            "2724\n",
            "3\n",
            "2560\n",
            "2\n",
            "1273\n",
            "1\n",
            "75\n",
            "0\n"
          ]
        }
      ]
    },
    {
      "cell_type": "code",
      "source": [
        "print(train_labels_list)\n",
        "print(kmeans_labels_list)"
      ],
      "metadata": {
        "colab": {
          "base_uri": "https://localhost:8080/"
        },
        "id": "N4umgCMOjXxm",
        "outputId": "91428cc7-708a-4dfb-ab80-e4fb4bf3d8f1"
      },
      "execution_count": null,
      "outputs": [
        {
          "output_type": "stream",
          "name": "stdout",
          "text": [
            "[0, 2, 6, 3, 7, 1, 8, 4, 5, 9]\n",
            "[9, 5, 6, 0, 2, 8, 3, 7, 4, 1]\n"
          ]
        }
      ]
    },
    {
      "cell_type": "markdown",
      "source": [
        "Compare The Actual Labels with Clustered Labels"
      ],
      "metadata": {
        "id": "IgdkrXSKk-6p"
      }
    },
    {
      "cell_type": "code",
      "source": [
        "from sklearn.metrics import confusion_matrix, accuracy_score\n",
        "real_labels=[\n",
        "\n",
        "]\n",
        "\n",
        "for i in range(len(kmeans.labels_)):\n",
        "  for j in range(len(train_labels_list)):\n",
        "    if(kmeans.labels_[i]==kmeans_labels_list[j]):\n",
        "      real_labels.append(train_labels_list[j])\n",
        "\n",
        "\n",
        "a=accuracy_score(real_labels, labels_train)\n",
        "print(\"Current accuracy is {}%\".format(a*100))"
      ],
      "metadata": {
        "colab": {
          "base_uri": "https://localhost:8080/"
        },
        "id": "8dpYrWPDrQMB",
        "outputId": "f31b833c-cd2f-403f-9528-a68ac7a31ee4"
      },
      "execution_count": 12,
      "outputs": [
        {
          "output_type": "stream",
          "name": "stdout",
          "text": [
            "Current accuracy is 53.33541666666667%\n"
          ]
        }
      ]
    },
    {
      "cell_type": "code",
      "source": [
        "from sklearn.neighbors import KNeighborsClassifier\n",
        "classifier=KNeighborsClassifier(n_neighbors=1)\n",
        "\n",
        "classifier.fit(data_train,real_labels)\n",
        "y_pred=classifier.predict(data_test)\n",
        "a=accuracy_score(labels_test, y_pred)\n",
        "print(\"Current accuracy is {}%\".format(a*100))"
      ],
      "metadata": {
        "colab": {
          "base_uri": "https://localhost:8080/"
        },
        "id": "g1q_dhU9uYvl",
        "outputId": "6e041233-850b-4311-d63e-af23b4c49226"
      },
      "execution_count": 13,
      "outputs": [
        {
          "output_type": "stream",
          "name": "stdout",
          "text": [
            "Current accuracy is 54.766666666666666%\n"
          ]
        }
      ]
    }
  ]
}