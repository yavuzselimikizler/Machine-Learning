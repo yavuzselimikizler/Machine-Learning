{
  "nbformat": 4,
  "nbformat_minor": 0,
  "metadata": {
    "colab": {
      "provenance": [],
      "machine_shape": "hm",
      "include_colab_link": true
    },
    "kernelspec": {
      "name": "python3",
      "display_name": "Python 3"
    }
  },
  "cells": [
    {
      "cell_type": "markdown",
      "metadata": {
        "id": "view-in-github",
        "colab_type": "text"
      },
      "source": [
        "<a href=\"https://colab.research.google.com/github/yavuzselimikizler/Machine-Learning/blob/main/classification_algorithms.ipynb\" target=\"_parent\"><img src=\"https://colab.research.google.com/assets/colab-badge.svg\" alt=\"Open In Colab\"/></a>"
      ]
    },
    {
      "cell_type": "markdown",
      "metadata": {
        "id": "0MRC0e0KhQ0S"
      },
      "source": [
        "# Support Vector Machine (SVM)"
      ]
    },
    {
      "cell_type": "markdown",
      "metadata": {
        "id": "LWd1UlMnhT2s"
      },
      "source": [
        "## Importing the libraries"
      ]
    },
    {
      "cell_type": "code",
      "source": [
        "import random\n",
        "def rand_gen(start,end,rand_l,mixed_train):\n",
        "  rand_list_return=[]\n",
        "  for i in range(start,end-1):\n",
        "    rand_list_return.append(mixed_train[rand_l[i]])\n",
        "\n",
        "  return rand_list_return  "
      ],
      "metadata": {
        "id": "iPbRpsBJgvtS"
      },
      "execution_count": null,
      "outputs": []
    },
    {
      "cell_type": "code",
      "metadata": {
        "id": "YvGPUQaHhXfL"
      },
      "source": [
        "import numpy as np\n",
        "import matplotlib.pyplot as plt\n",
        "import pandas as pd\n",
        "import csv\n",
        "import math\n",
        "\n",
        "\n",
        "\n",
        "from sklearn import *\n",
        "from sklearn.linear_model import SGDClassifier\n",
        "from sklearn.pipeline import make_pipeline\n",
        "from sklearn.preprocessing import StandardScaler\n",
        "\n",
        "# example of making multiple probability predictions\n",
        "from sklearn.linear_model import LogisticRegression"
      ],
      "execution_count": 1,
      "outputs": []
    },
    {
      "cell_type": "markdown",
      "metadata": {
        "id": "K1VMqkGvhc3-"
      },
      "source": [
        "## Importing the dataset"
      ]
    },
    {
      "cell_type": "code",
      "metadata": {
        "id": "M52QDmyzhh9s",
        "colab": {
          "base_uri": "https://localhost:8080/"
        },
        "outputId": "fffefe95-d181-4aaf-d0d8-0f76bf1e8976"
      },
      "source": [
        "coll_list=[\"duration\",\"age\",\"day\",\"campaign\",\"pdays\",\"previous\"]\n",
        "coll_listsec=[\"balance\"]\n",
        "coll_listbool=[\"default\",\"housing\",\"loan\"]\n",
        "coll_listtird=[\"job\",\"marital\",\"education\",\"contact\",\"month\",\"poutcome\"]\n",
        "coll_list2=[\"y\"]\n",
        "df=pd.read_csv('/content/drive/MyDrive/bank/bank.csv', sep=';',usecols=coll_list)\n",
        "da=pd.read_csv('/content/drive/MyDrive/bank/bank.csv', sep=';',usecols=coll_listsec)\n",
        "dd=pd.read_csv('/content/drive/MyDrive/bank/bank.csv', sep=';',usecols=coll_list2)\n",
        "dj=pd.read_csv('/content/drive/MyDrive/bank/bank.csv', sep=';',usecols=coll_listtird)\n",
        "bl=pd.read_csv('/content/drive/MyDrive/bank/bank.csv', sep=';',usecols=coll_listbool)\n",
        "job_list=[]\n",
        "first=[]\n",
        "add_list=[0,1,2,3,4,5]\n",
        "add_number_list=[0,1,2,3,4,5]\n",
        "full_number=np.array(df)\n",
        "full_jb=np.array(dj)\n",
        "jb=[]\n",
        "for i in range(len(full_jb)):\n",
        "  my_row=[]\n",
        "  for j in add_list:\n",
        "      my_row.append(full_jb[i][j])\n",
        "  jb.append(my_row)    \n",
        "\n",
        "for i in range(len(full_number)):\n",
        "  my_row=[]\n",
        "  for j in add_number_list:\n",
        "      my_row.append(full_number[i][j])\n",
        "  first.append(my_row)   \n",
        "\n",
        "bb=np.array(bl)\n",
        "\n",
        "boll_arr=[]\n",
        "for i in range(len(bb)):\n",
        "  row_b=[]\n",
        "  for j in range(len(bb[0])):\n",
        "   if bb[i][j]=='yes':\n",
        "     row_b.append(1)\n",
        "   else:\n",
        "     row_b.append(0) \n",
        "  boll_arr.append(row_b)\n",
        "bb=np.array(boll_arr)\n",
        "#print(bb)\n",
        "\n",
        "td_job=[]\n",
        "for j in range(len(jb[0])):\n",
        " job_oned=[]\n",
        " for i in range(len(jb)):\n",
        "  if jb[i][j] not in job_list:\n",
        "    job_list.append(jb[i][j])\n",
        "\n",
        "print(job_list)  \n",
        "\n",
        "for i in range(len(jb)):\n",
        "   \n",
        "    row_list=[]\n",
        "    for j in range(len(job_list)):\n",
        "\n",
        "     if job_list[j] in jb[i]:\n",
        "       row_list.append(1)\n",
        "     else:\n",
        "      row_list.append(0) \n",
        "    td_job.append(row_list) \n",
        "\n",
        "          \n",
        "jb=np.array(td_job)\n",
        "first=np.array(first)\n",
        "second=np.array(da)\n",
        "train_x=np.concatenate((first, second), axis=1)\n",
        "train_x=np.concatenate((train_x, jb), axis=1)\n",
        "train_x=np.concatenate((train_x, bb), axis=1)\n",
        "train_y=np.array(dd).flatten()\n",
        "\n",
        "\n",
        "counter=0\n",
        "for i in train_y:\n",
        "   if i=='yes':\n",
        "     train_y[counter]=1\n",
        "     \n",
        "   else:\n",
        "     train_y[counter]=0  \n",
        "     \n",
        "   counter+=1\n",
        "\n",
        "train_y=train_y.astype('int')\n",
        "   \n",
        "\n",
        "\n",
        "\n"
      ],
      "execution_count": 2,
      "outputs": [
        {
          "output_type": "stream",
          "name": "stdout",
          "text": [
            "['unemployed', 'services', 'management', 'blue-collar', 'self-employed', 'technician', 'entrepreneur', 'admin.', 'student', 'housemaid', 'retired', 'unknown', 'married', 'single', 'divorced', 'primary', 'secondary', 'tertiary', 'cellular', 'telephone', 'oct', 'may', 'apr', 'jun', 'feb', 'aug', 'jan', 'jul', 'nov', 'sep', 'mar', 'dec', 'failure', 'other', 'success']\n"
          ]
        }
      ]
    },
    {
      "cell_type": "markdown",
      "metadata": {
        "id": "YvxIPVyMhmKp"
      },
      "source": [
        "## Splitting the dataset into the Training set and Test set"
      ]
    },
    {
      "cell_type": "code",
      "metadata": {
        "id": "AVzJWAXIhxoC"
      },
      "source": [
        "coll_list3=[\"duration\",\"age\",\"day\",\"campaign\",\"pdays\",\"previous\"]\n",
        "coll_list3sec=[\"balance\"]\n",
        "coll_list4=[\"y\"]\n",
        "\n",
        "dg=pd.read_csv('/content/drive/MyDrive/bank/bank-full.csv', sep=';',usecols=coll_list3)\n",
        "dc=pd.read_csv('/content/drive/MyDrive/bank/bank-full.csv', sep=';',usecols=coll_list3sec)\n",
        "db=pd.read_csv('/content/drive/MyDrive/bank/bank-full.csv', sep=';',usecols=coll_list4)\n",
        "djob=pd.read_csv('/content/drive/MyDrive/bank/bank-full.csv', sep=';',usecols=coll_listtird)\n",
        "bll=pd.read_csv('/content/drive/MyDrive/bank/bank-full.csv', sep=';',usecols=coll_listbool)\n",
        "\n",
        "job_list=[]\n",
        "\n",
        "bbl=np.array(bll)\n",
        "first=[]\n",
        "add_list=[0,1,2,3,4,5]\n",
        "add_number_list=[0]\n",
        "full_number=np.array(dg)\n",
        "full_jb=np.array(djob)\n",
        "jobb=[]\n",
        "for i in range(len(full_jb)):\n",
        "  my_row=[]\n",
        "  for j in add_list:\n",
        "      my_row.append(full_jb[i][j])\n",
        "  jobb.append(my_row)    \n",
        "\n",
        "for i in range(len(full_number)):\n",
        "  my_row=[]\n",
        "  for j in add_number_list:\n",
        "      my_row.append(full_number[i][j])\n",
        "  first.append(my_row) \n",
        "boll_arr=[]\n",
        "for i in range(len(bbl)):\n",
        "  row_b=[]\n",
        "  for j in range(len(bbl[0])):\n",
        "   if bbl[i][j]=='yes':\n",
        "     row_b.append(1)\n",
        "   else:\n",
        "     row_b.append(0) \n",
        "  boll_arr.append(row_b)\n",
        "bbl=np.array(boll_arr)\n",
        "\n",
        "counter=0\n",
        "\n",
        "td_job=[]\n",
        "for j in range(len(jobb[0])):\n",
        " job_oned=[]\n",
        " for i in range(len(jobb)):\n",
        "  if jobb[i][j] not in job_list:\n",
        "    job_list.append(jobb[i][j])\n",
        "\n",
        "for i in range(len(jobb)):\n",
        "   \n",
        "    row_list=[]\n",
        "    for j in range(len(job_list)):\n",
        "\n",
        "     if job_list[j] in jobb[i]:\n",
        "       row_list.append(1)\n",
        "     else:\n",
        "      row_list.append(0) \n",
        "    td_job.append(row_list) \n",
        "\n",
        "jobb=np.array(td_job)\n",
        "\n",
        "train_y=np.array(db).flatten()\n",
        "first=np.array(first)\n",
        "\n",
        "second=np.array(dc)\n",
        "train_x=np.concatenate((first, second), axis=1)\n",
        "\"\"\"train_x=np.concatenate((train_x, jobb), axis=1)\n",
        "train_x=np.concatenate((train_x, bbl), axis=1)\"\"\"\n",
        "for i in train_y:\n",
        "   if i=='yes':\n",
        "     train_y[counter]=1\n",
        "     \n",
        "   else:\n",
        "     train_y[counter]=0  \n",
        "     \n",
        " \n",
        "   counter+=1\n",
        "   \"\"\"\n",
        "for j in range(len(train_x)):\n",
        "  for k in range(len(train_x[0])):\n",
        "   if train_x[j][k]=='unknown':\n",
        "     train_x[j][k]=0\n",
        "\"\"\"  \n",
        "train_y=train_y.astype('int')\n"
      ],
      "execution_count": 3,
      "outputs": []
    },
    {
      "cell_type": "code",
      "metadata": {
        "id": "P3nS3-6r1i2B"
      },
      "source": [
        "from sklearn.preprocessing import StandardScaler\n",
        "sc = StandardScaler()\n",
        "\n",
        "train_x = sc.fit_transform(train_x)\n",
        "#test_x = sc.transform(test_x)\n",
        "\n",
        "#print(test_x)"
      ],
      "execution_count": 4,
      "outputs": []
    },
    {
      "cell_type": "code",
      "source": [
        "from sklearn.svm import LinearSVC\n",
        "from sklearn.svm import SVC\n",
        "from sklearn.datasets import make_classification\n",
        "from sklearn.tree import DecisionTreeClassifier\n",
        "from sklearn.svm import SVR\n",
        "def get_classifier(train_x,train_y,training_type):\n",
        "  \n",
        " if training_type==1:\n",
        "\n",
        "  classifier=DecisionTreeClassifier(criterion='entropy',random_state=0,ccp_alpha=0.002)\n",
        "  \n",
        "\n",
        " elif training_type==2:\n",
        "  classifier = SVC(kernel='linear', C=2,random_state=0,probability=True)  \n",
        "   \n",
        " elif training_type==3:\n",
        "  classifier = SVC(kernel='poly', degree=2,probability=True)\n",
        "\n",
        "\n",
        " classifier.fit(train_x,train_y)\n",
        " return classifier\n",
        "\n",
        "\n"
      ],
      "metadata": {
        "id": "p_2ghMInAqbx"
      },
      "execution_count": 5,
      "outputs": []
    },
    {
      "cell_type": "code",
      "source": [
        "import matplotlib.pyplot as plt\n",
        "import numpy as np\n",
        "from sklearn.metrics import accuracy_score, confusion_matrix, roc_auc_score, roc_curve\n",
        "def plot_roc_curve(y_test, y_pred,test_x,model):\n",
        "   \n",
        "\n",
        "   y_pred_proba = model.predict_proba(test_x)[::,1]\n",
        "   fpr, tpr, _ = metrics.roc_curve(y_test,  y_pred_proba)\n",
        "   gmean = np.sqrt(tpr * (1 - fpr))\n",
        "\n",
        "   # Find the optimal threshold\n",
        "   index = np.argmax(gmean)\n",
        "   #create ROC curve\n",
        "   fprOpt = round(fpr[index], ndigits = 4)\n",
        "   tprOpt = round(tpr[index], ndigits = 4)\n",
        "   plt.plot(fpr,tpr)\n",
        "   plt.ylabel('True Positive Rate')\n",
        "   plt.xlabel('False Positive Rate')\n",
        "\n",
        "   plt.show()\n",
        "   print(\"{} : x value, {} : y value\",fprOpt,tprOpt)"
      ],
      "metadata": {
        "id": "c60deO8sadIr"
      },
      "execution_count": 6,
      "outputs": []
    },
    {
      "cell_type": "code",
      "source": [
        "import random\n",
        "def generate_randlist(train_crossx):\n",
        " rand_list=[]\n",
        " train_x_full=[]\n",
        " train_y_full=[]\n",
        " while len(rand_list)<len(train_crossx)-1:\n",
        "   number=random.randint(0,len(train_crossx)-1)\n",
        "\n",
        "   if(number not in rand_list):\n",
        "     rand_list.append(number)\n",
        " \n",
        " return rand_list"
      ],
      "metadata": {
        "id": "Nk7bgsagrfJ4"
      },
      "execution_count": null,
      "outputs": []
    },
    {
      "cell_type": "code",
      "source": [
        "from sklearn.metrics import confusion_matrix, accuracy_score\n",
        "import math \n",
        "def cross_val(train_x,train_y,test_x,test_y):\n",
        "\n",
        " # rand_list=generate_randlist(train_x)\n",
        "\n",
        "\n",
        "\n",
        "\n",
        " pnum=0\n",
        " nnum=0\n",
        "\n",
        " \n",
        "\n",
        " \"\"\"\n",
        " train_x1=rand_gen(0,math.floor(len(train_x)/5),rand_list,train_x)\n",
        " train_y1=rand_gen(0,math.floor(len(train_x)/5),rand_list,train_y)\n",
        " train_x2=rand_gen(math.floor(len(train_x)/5),math.floor((len(train_x)/5)*2),rand_list,train_x)\n",
        " train_y2=rand_gen(math.floor(len(train_x)/5),math.floor((len(train_x)/5)*2),rand_list,train_y)\n",
        " train_x3=rand_gen(math.floor((len(train_x)/5)*2),math.floor((len(train_x)/5)*3),rand_list,train_x)\n",
        " train_y3=rand_gen(math.floor((len(train_x)/5)*2),math.floor((len(train_x)/5)*3),rand_list,train_y)\n",
        " train_x4=rand_gen(math.floor((len(train_x)/5)*3),math.floor((len(train_x)/5)*4),rand_list,train_x)\n",
        " train_y4=rand_gen(math.floor((len(train_x)/5)*3),math.floor((len(train_x)/5)*4),rand_list,train_y)\n",
        " train_x5=rand_gen(math.floor((len(train_x)/5)*4),math.floor((len(train_x)/5)*5),rand_list,train_x)\n",
        " train_y5=rand_gen(math.floor((len(train_x)/5)*4),math.floor((len(train_x)/5)*5),rand_list,train_y)\n",
        " \n",
        " classifier1=get_classifier(train_x1,train_y1,type_op)\n",
        " print(\"1 ready\")\n",
        " classifier2=get_classifier(train_x2,train_y2,type_op)\n",
        " print(\"2 ready\")\n",
        " classifier3=get_classifier(train_x3,train_y3,type_op)\n",
        " print(\"3 ready\")\n",
        " classifier4=get_classifier(train_x4,train_y4,type_op)\n",
        " print(\"4 ready\")\n",
        " classifier5=get_classifier(train_x5,train_y5,type_op)\n",
        "\n",
        " y_pred1=classifier1.predict(test_x)\n",
        " y_pred2=classifier2.predict(test_x)\n",
        " y_pred3=classifier3.predict(test_x)\n",
        " y_pred4=classifier4.predict(test_x)\n",
        " y_pred5=classifier5.predict(test_x)\n",
        " \"\"\"\n",
        " type_op=2\n",
        " classifier=get_classifier(train_x,train_y,type_op)\n",
        " y_pred=classifier.predict(test_x)\n",
        " classifier.fit(train_x,train_y)\n",
        " \"\"\"for i in range(len(test_x)):\n",
        "  if y_pred1[i]==1:\n",
        "    pnum+=1\n",
        "  else:\n",
        "    nnum+=1\n",
        "  if y_pred2[i]==1:\n",
        "    pnum+=1\n",
        "  else:\n",
        "    nnum+=1\n",
        "  if y_pred3[i]==1:\n",
        "    pnum+=1\n",
        "  else:\n",
        "    nnum+=1\n",
        "  if y_pred4[i]==1:\n",
        "    pnum+=1\n",
        "  else:\n",
        "    nnum+=1\n",
        "  if y_pred5[i]==1:\n",
        "    pnum+=1\n",
        "  else:\n",
        "    nnum+=1\n",
        "\n",
        "  if pnum>nnum:\n",
        "    y_pred.append(1)\n",
        "  else:\n",
        "    y_pred.append(0)\n",
        "\n",
        "  pnum=0\n",
        "  nnum=0\n",
        "\"\"\"\n",
        " a=accuracy_score(test_y, y_pred)\n",
        " print(\"Current accuracy is {}%\".format(a*100))\n",
        " cm = confusion_matrix(test_y, y_pred)\n",
        " print(cm)\n",
        " if(type_op==2 or type_op==3):\n",
        "   plot_roc_curve(test_y,y_pred,test_x,classifier)\n",
        " \n",
        " \n",
        " return a"
      ],
      "metadata": {
        "id": "r-euhfLkX0kw"
      },
      "execution_count": 8,
      "outputs": []
    },
    {
      "cell_type": "code",
      "source": [
        "from sklearn.model_selection import StratifiedKFold\n",
        "scores=[]\n",
        "\n",
        "print(len(train_x))\n",
        "\n",
        "skf = StratifiedKFold(n_splits=5, shuffle=True, random_state=2)\n",
        "for train_index, test_index in skf.split(train_x, train_y):\n",
        "   train_crossx=[]\n",
        "   train_crossy=[]\n",
        "   test_crossx=[]\n",
        "   test_crossy=[]\n",
        "   for i in range(len(train_index)-1):\n",
        "     train_crossx.append(train_x[train_index[i]]) \n",
        "     train_crossy.append(train_y[train_index[i]]) \n",
        "   for j in range(len(test_index)-1):\n",
        "     test_crossx.append(train_x[test_index[j]]) \n",
        "     test_crossy.append(train_y[test_index[j]]) \n",
        "   scores.append(cross_val(train_crossx,train_crossy,test_crossx,test_crossy))\n",
        "\n",
        "print('\\n\\nCross-Validation accuracy: %.3f ', 100*np.mean(scores))"
      ],
      "metadata": {
        "colab": {
          "base_uri": "https://localhost:8080/",
          "height": 1000
        },
        "id": "R9Qjw2B-ZgLz",
        "outputId": "9101aabc-70f8-4c3c-8e0a-1203adf2e9af"
      },
      "execution_count": 9,
      "outputs": [
        {
          "output_type": "stream",
          "name": "stdout",
          "text": [
            "45211\n",
            "Current accuracy is 88.31010838310108%\n",
            "[[7985    0]\n",
            " [1057    0]]\n"
          ]
        },
        {
          "output_type": "display_data",
          "data": {
            "text/plain": [
              "<Figure size 640x480 with 1 Axes>"
            ],
            "image/png": "[encoded data removed]"
          },
          "metadata": {}
        },
        {
          "output_type": "stream",
          "name": "stdout",
          "text": [
            "{} : x value, {} : y value 0.4222 0.4219\n",
            "Current accuracy is 88.31987611989824%\n",
            "[[7985    0]\n",
            " [1056    0]]\n"
          ]
        },
        {
          "output_type": "display_data",
          "data": {
            "text/plain": [
              "<Figure size 640x480 with 1 Axes>"
            ],
            "image/png": "[encoded data removed]"
          },
          "metadata": {}
        },
        {
          "output_type": "stream",
          "name": "stdout",
          "text": [
            "{} : x value, {} : y value 0.4268 0.3949\n",
            "Current accuracy is 88.29775467315562%\n",
            "[[7983    0]\n",
            " [1058    0]]\n"
          ]
        },
        {
          "output_type": "display_data",
          "data": {
            "text/plain": [
              "<Figure size 640x480 with 1 Axes>"
            ],
            "image/png": "[encoded data removed]"
          },
          "metadata": {}
        },
        {
          "output_type": "stream",
          "name": "stdout",
          "text": [
            "{} : x value, {} : y value 0.4042 0.4225\n",
            "Current accuracy is 88.30881539652692%\n",
            "[[7984    0]\n",
            " [1057    0]]\n"
          ]
        },
        {
          "output_type": "display_data",
          "data": {
            "text/plain": [
              "<Figure size 640x480 with 1 Axes>"
            ],
            "image/png": "[encoded data removed]"
          },
          "metadata": {}
        },
        {
          "output_type": "stream",
          "name": "stdout",
          "text": [
            "{} : x value, {} : y value 0.39 0.457\n",
            "Current accuracy is 88.29775467315562%\n",
            "[[7983    0]\n",
            " [1058    0]]\n"
          ]
        },
        {
          "output_type": "display_data",
          "data": {
            "text/plain": [
              "<Figure size 640x480 with 1 Axes>"
            ],
            "image/png": "[encoded data removed]"
          },
          "metadata": {}
        },
        {
          "output_type": "stream",
          "name": "stdout",
          "text": [
            "{} : x value, {} : y value 0.4234 0.4877\n",
            "\n",
            "\n",
            "Cross-Validation accuracy: %.3f  88.3068618491675\n"
          ]
        }
      ]
    },
    {
      "cell_type": "markdown",
      "source": [
        "Linear SVM"
      ],
      "metadata": {
        "id": "_9ncdcEBbzij"
      }
    },
    {
      "cell_type": "code",
      "source": [
        "from sklearn.svm import LinearSVC\n",
        "from sklearn.svm import SVC\n",
        "from sklearn.datasets import make_classification\n",
        "from sklearn.tree import DecisionTreeClassifier\n",
        "\n",
        "classifier = SVC(kernel='linear',C=1000, random_state=0)  \n",
        "classifier.fit(train_x, train_y)  \n",
        "\n",
        "classifier.fit(train_x, train_y)"
      ],
      "metadata": {
        "id": "q5avoYMfb5lh"
      },
      "execution_count": null,
      "outputs": []
    },
    {
      "cell_type": "markdown",
      "metadata": {
        "id": "bb6jCOCQiAmP"
      },
      "source": [
        "## Training the SVM model on the Training set"
      ]
    },
    {
      "cell_type": "code",
      "metadata": {
        "id": "e0pFVAmciHQs",
        "colab": {
          "base_uri": "https://localhost:8080/"
        },
        "outputId": "18f4c691-58cc-4e4b-95ac-04dfb30dfd81"
      },
      "source": [
        "from sklearn.svm import LinearSVC\n",
        "from sklearn.svm import SVC\n",
        "from sklearn.datasets import make_classification\n",
        "from sklearn.tree import DecisionTreeClassifier\n",
        "\n",
        "classifier = DecisionTreeClassifier(criterion = 'entropy', random_state = 0)\n",
        "\n",
        "classifier.fit(train_x, train_y)"
      ],
      "execution_count": null,
      "outputs": [
        {
          "output_type": "execute_result",
          "data": {
            "text/plain": [
              "DecisionTreeClassifier(criterion='entropy', random_state=0)"
            ]
          },
          "metadata": {},
          "execution_count": 12
        }
      ]
    },
    {
      "cell_type": "markdown",
      "source": [
        "Pre Prunning Operation"
      ],
      "metadata": {
        "id": "5V7AAsWj9zpd"
      }
    },
    {
      "cell_type": "code",
      "source": [
        "from sklearn import svm, datasets\n",
        "from sklearn.model_selection import GridSearchCV\n",
        "grid_param={\"criterion\":[\"gini\",\"entropy\"],\n",
        "             \"splitter\":[\"best\",\"random\"],\n",
        "             \"max_depth\":range(2,50,1),\n",
        "             \"min_samples_leaf\":range(1,15,1),\n",
        "             \"min_samples_split\":range(2,20,1) \n",
        "            }\n",
        "grid_search=GridSearchCV(estimator=classifier,param_grid=grid_param,cv=5,n_jobs=-1)\n",
        "grid_search.fit(train_x,train_y)\n",
        "print(grid_search.best_params_)"
      ],
      "metadata": {
        "colab": {
          "base_uri": "https://localhost:8080/",
          "height": 363
        },
        "id": "aqHQ0yIS_RNO",
        "outputId": "aa4497c3-86fd-428a-87b8-5d2305e6f7f4"
      },
      "execution_count": null,
      "outputs": [
        {
          "output_type": "error",
          "ename": "KeyboardInterrupt",
          "evalue": "ignored",
          "traceback": [
            "\u001b[0;31m---------------------------------------------------------------------------\u001b[0m",
            "\u001b[0;31mKeyboardInterrupt\u001b[0m                         Traceback (most recent call last)",
            "\u001b[0;32m<ipython-input-19-85a750696014>\u001b[0m in \u001b[0;36m<module>\u001b[0;34m\u001b[0m\n\u001b[1;32m      8\u001b[0m             }\n\u001b[1;32m      9\u001b[0m \u001b[0mgrid_search\u001b[0m\u001b[0;34m=\u001b[0m\u001b[0mGridSearchCV\u001b[0m\u001b[0;34m(\u001b[0m\u001b[0mestimator\u001b[0m\u001b[0;34m=\u001b[0m\u001b[0mclassifier\u001b[0m\u001b[0;34m,\u001b[0m\u001b[0mparam_grid\u001b[0m\u001b[0;34m=\u001b[0m\u001b[0mgrid_param\u001b[0m\u001b[0;34m,\u001b[0m\u001b[0mcv\u001b[0m\u001b[0;34m=\u001b[0m\u001b[0;36m5\u001b[0m\u001b[0;34m,\u001b[0m\u001b[0mn_jobs\u001b[0m\u001b[0;34m=\u001b[0m\u001b[0;34m-\u001b[0m\u001b[0;36m1\u001b[0m\u001b[0;34m)\u001b[0m\u001b[0;34m\u001b[0m\u001b[0;34m\u001b[0m\u001b[0m\n\u001b[0;32m---> 10\u001b[0;31m \u001b[0mgrid_search\u001b[0m\u001b[0;34m.\u001b[0m\u001b[0mfit\u001b[0m\u001b[0;34m(\u001b[0m\u001b[0mtrain_x\u001b[0m\u001b[0;34m,\u001b[0m\u001b[0mtrain_y\u001b[0m\u001b[0;34m)\u001b[0m\u001b[0;34m\u001b[0m\u001b[0;34m\u001b[0m\u001b[0m\n\u001b[0m\u001b[1;32m     11\u001b[0m \u001b[0mprint\u001b[0m\u001b[0;34m(\u001b[0m\u001b[0mgrid_search\u001b[0m\u001b[0;34m.\u001b[0m\u001b[0mbest_params_\u001b[0m\u001b[0;34m)\u001b[0m\u001b[0;34m\u001b[0m\u001b[0;34m\u001b[0m\u001b[0m\n",
            "\u001b[0;32m/usr/local/lib/python3.8/dist-packages/sklearn/model_selection/_search.py\u001b[0m in \u001b[0;36mfit\u001b[0;34m(self, X, y, groups, **fit_params)\u001b[0m\n\u001b[1;32m    889\u001b[0m                 \u001b[0;32mreturn\u001b[0m \u001b[0mresults\u001b[0m\u001b[0;34m\u001b[0m\u001b[0;34m\u001b[0m\u001b[0m\n\u001b[1;32m    890\u001b[0m \u001b[0;34m\u001b[0m\u001b[0m\n\u001b[0;32m--> 891\u001b[0;31m             \u001b[0mself\u001b[0m\u001b[0;34m.\u001b[0m\u001b[0m_run_search\u001b[0m\u001b[0;34m(\u001b[0m\u001b[0mevaluate_candidates\u001b[0m\u001b[0;34m)\u001b[0m\u001b[0;34m\u001b[0m\u001b[0;34m\u001b[0m\u001b[0m\n\u001b[0m\u001b[1;32m    892\u001b[0m \u001b[0;34m\u001b[0m\u001b[0m\n\u001b[1;32m    893\u001b[0m             \u001b[0;31m# multimetric is determined here because in the case of a callable\u001b[0m\u001b[0;34m\u001b[0m\u001b[0;34m\u001b[0m\u001b[0;34m\u001b[0m\u001b[0m\n",
            "\u001b[0;32m/usr/local/lib/python3.8/dist-packages/sklearn/model_selection/_search.py\u001b[0m in \u001b[0;36m_run_search\u001b[0;34m(self, evaluate_candidates)\u001b[0m\n\u001b[1;32m   1390\u001b[0m     \u001b[0;32mdef\u001b[0m \u001b[0m_run_search\u001b[0m\u001b[0;34m(\u001b[0m\u001b[0mself\u001b[0m\u001b[0;34m,\u001b[0m \u001b[0mevaluate_candidates\u001b[0m\u001b[0;34m)\u001b[0m\u001b[0;34m:\u001b[0m\u001b[0;34m\u001b[0m\u001b[0;34m\u001b[0m\u001b[0m\n\u001b[1;32m   1391\u001b[0m         \u001b[0;34m\"\"\"Search all candidates in param_grid\"\"\"\u001b[0m\u001b[0;34m\u001b[0m\u001b[0;34m\u001b[0m\u001b[0m\n\u001b[0;32m-> 1392\u001b[0;31m         \u001b[0mevaluate_candidates\u001b[0m\u001b[0;34m(\u001b[0m\u001b[0mParameterGrid\u001b[0m\u001b[0;34m(\u001b[0m\u001b[0mself\u001b[0m\u001b[0;34m.\u001b[0m\u001b[0mparam_grid\u001b[0m\u001b[0;34m)\u001b[0m\u001b[0;34m)\u001b[0m\u001b[0;34m\u001b[0m\u001b[0;34m\u001b[0m\u001b[0m\n\u001b[0m\u001b[1;32m   1393\u001b[0m \u001b[0;34m\u001b[0m\u001b[0m\n\u001b[1;32m   1394\u001b[0m \u001b[0;34m\u001b[0m\u001b[0m\n",
            "\u001b[0;32m/usr/local/lib/python3.8/dist-packages/sklearn/model_selection/_search.py\u001b[0m in \u001b[0;36mevaluate_candidates\u001b[0;34m(candidate_params, cv, more_results)\u001b[0m\n\u001b[1;32m    836\u001b[0m                     )\n\u001b[1;32m    837\u001b[0m \u001b[0;34m\u001b[0m\u001b[0m\n\u001b[0;32m--> 838\u001b[0;31m                 out = parallel(\n\u001b[0m\u001b[1;32m    839\u001b[0m                     delayed(_fit_and_score)(\n\u001b[1;32m    840\u001b[0m                         \u001b[0mclone\u001b[0m\u001b[0;34m(\u001b[0m\u001b[0mbase_estimator\u001b[0m\u001b[0;34m)\u001b[0m\u001b[0;34m,\u001b[0m\u001b[0;34m\u001b[0m\u001b[0;34m\u001b[0m\u001b[0m\n",
            "\u001b[0;32m/usr/local/lib/python3.8/dist-packages/joblib/parallel.py\u001b[0m in \u001b[0;36m__call__\u001b[0;34m(self, iterable)\u001b[0m\n\u001b[1;32m   1096\u001b[0m \u001b[0;34m\u001b[0m\u001b[0m\n\u001b[1;32m   1097\u001b[0m             \u001b[0;32mwith\u001b[0m \u001b[0mself\u001b[0m\u001b[0;34m.\u001b[0m\u001b[0m_backend\u001b[0m\u001b[0;34m.\u001b[0m\u001b[0mretrieval_context\u001b[0m\u001b[0;34m(\u001b[0m\u001b[0;34m)\u001b[0m\u001b[0;34m:\u001b[0m\u001b[0;34m\u001b[0m\u001b[0;34m\u001b[0m\u001b[0m\n\u001b[0;32m-> 1098\u001b[0;31m                 \u001b[0mself\u001b[0m\u001b[0;34m.\u001b[0m\u001b[0mretrieve\u001b[0m\u001b[0;34m(\u001b[0m\u001b[0;34m)\u001b[0m\u001b[0;34m\u001b[0m\u001b[0;34m\u001b[0m\u001b[0m\n\u001b[0m\u001b[1;32m   1099\u001b[0m             \u001b[0;31m# Make sure that we get a last message telling us we are done\u001b[0m\u001b[0;34m\u001b[0m\u001b[0;34m\u001b[0m\u001b[0;34m\u001b[0m\u001b[0m\n\u001b[1;32m   1100\u001b[0m             \u001b[0melapsed_time\u001b[0m \u001b[0;34m=\u001b[0m \u001b[0mtime\u001b[0m\u001b[0;34m.\u001b[0m\u001b[0mtime\u001b[0m\u001b[0;34m(\u001b[0m\u001b[0;34m)\u001b[0m \u001b[0;34m-\u001b[0m \u001b[0mself\u001b[0m\u001b[0;34m.\u001b[0m\u001b[0m_start_time\u001b[0m\u001b[0;34m\u001b[0m\u001b[0;34m\u001b[0m\u001b[0m\n",
            "\u001b[0;32m/usr/local/lib/python3.8/dist-packages/joblib/parallel.py\u001b[0m in \u001b[0;36mretrieve\u001b[0;34m(self)\u001b[0m\n\u001b[1;32m    973\u001b[0m             \u001b[0;32mtry\u001b[0m\u001b[0;34m:\u001b[0m\u001b[0;34m\u001b[0m\u001b[0;34m\u001b[0m\u001b[0m\n\u001b[1;32m    974\u001b[0m                 \u001b[0;32mif\u001b[0m \u001b[0mgetattr\u001b[0m\u001b[0;34m(\u001b[0m\u001b[0mself\u001b[0m\u001b[0;34m.\u001b[0m\u001b[0m_backend\u001b[0m\u001b[0;34m,\u001b[0m \u001b[0;34m'supports_timeout'\u001b[0m\u001b[0;34m,\u001b[0m \u001b[0;32mFalse\u001b[0m\u001b[0;34m)\u001b[0m\u001b[0;34m:\u001b[0m\u001b[0;34m\u001b[0m\u001b[0;34m\u001b[0m\u001b[0m\n\u001b[0;32m--> 975\u001b[0;31m                     \u001b[0mself\u001b[0m\u001b[0;34m.\u001b[0m\u001b[0m_output\u001b[0m\u001b[0;34m.\u001b[0m\u001b[0mextend\u001b[0m\u001b[0;34m(\u001b[0m\u001b[0mjob\u001b[0m\u001b[0;34m.\u001b[0m\u001b[0mget\u001b[0m\u001b[0;34m(\u001b[0m\u001b[0mtimeout\u001b[0m\u001b[0;34m=\u001b[0m\u001b[0mself\u001b[0m\u001b[0;34m.\u001b[0m\u001b[0mtimeout\u001b[0m\u001b[0;34m)\u001b[0m\u001b[0;34m)\u001b[0m\u001b[0;34m\u001b[0m\u001b[0;34m\u001b[0m\u001b[0m\n\u001b[0m\u001b[1;32m    976\u001b[0m                 \u001b[0;32melse\u001b[0m\u001b[0;34m:\u001b[0m\u001b[0;34m\u001b[0m\u001b[0;34m\u001b[0m\u001b[0m\n\u001b[1;32m    977\u001b[0m                     \u001b[0mself\u001b[0m\u001b[0;34m.\u001b[0m\u001b[0m_output\u001b[0m\u001b[0;34m.\u001b[0m\u001b[0mextend\u001b[0m\u001b[0;34m(\u001b[0m\u001b[0mjob\u001b[0m\u001b[0;34m.\u001b[0m\u001b[0mget\u001b[0m\u001b[0;34m(\u001b[0m\u001b[0;34m)\u001b[0m\u001b[0;34m)\u001b[0m\u001b[0;34m\u001b[0m\u001b[0;34m\u001b[0m\u001b[0m\n",
            "\u001b[0;32m/usr/local/lib/python3.8/dist-packages/joblib/_parallel_backends.py\u001b[0m in \u001b[0;36mwrap_future_result\u001b[0;34m(future, timeout)\u001b[0m\n\u001b[1;32m    565\u001b[0m         AsyncResults.get from multiprocessing.\"\"\"\n\u001b[1;32m    566\u001b[0m         \u001b[0;32mtry\u001b[0m\u001b[0;34m:\u001b[0m\u001b[0;34m\u001b[0m\u001b[0;34m\u001b[0m\u001b[0m\n\u001b[0;32m--> 567\u001b[0;31m             \u001b[0;32mreturn\u001b[0m \u001b[0mfuture\u001b[0m\u001b[0;34m.\u001b[0m\u001b[0mresult\u001b[0m\u001b[0;34m(\u001b[0m\u001b[0mtimeout\u001b[0m\u001b[0;34m=\u001b[0m\u001b[0mtimeout\u001b[0m\u001b[0;34m)\u001b[0m\u001b[0;34m\u001b[0m\u001b[0;34m\u001b[0m\u001b[0m\n\u001b[0m\u001b[1;32m    568\u001b[0m         \u001b[0;32mexcept\u001b[0m \u001b[0mCfTimeoutError\u001b[0m \u001b[0;32mas\u001b[0m \u001b[0me\u001b[0m\u001b[0;34m:\u001b[0m\u001b[0;34m\u001b[0m\u001b[0;34m\u001b[0m\u001b[0m\n\u001b[1;32m    569\u001b[0m             \u001b[0;32mraise\u001b[0m \u001b[0mTimeoutError\u001b[0m \u001b[0;32mfrom\u001b[0m \u001b[0me\u001b[0m\u001b[0;34m\u001b[0m\u001b[0;34m\u001b[0m\u001b[0m\n",
            "\u001b[0;32m/usr/lib/python3.8/concurrent/futures/_base.py\u001b[0m in \u001b[0;36mresult\u001b[0;34m(self, timeout)\u001b[0m\n\u001b[1;32m    437\u001b[0m                     \u001b[0;32mreturn\u001b[0m \u001b[0mself\u001b[0m\u001b[0;34m.\u001b[0m\u001b[0m__get_result\u001b[0m\u001b[0;34m(\u001b[0m\u001b[0;34m)\u001b[0m\u001b[0;34m\u001b[0m\u001b[0;34m\u001b[0m\u001b[0m\n\u001b[1;32m    438\u001b[0m \u001b[0;34m\u001b[0m\u001b[0m\n\u001b[0;32m--> 439\u001b[0;31m                 \u001b[0mself\u001b[0m\u001b[0;34m.\u001b[0m\u001b[0m_condition\u001b[0m\u001b[0;34m.\u001b[0m\u001b[0mwait\u001b[0m\u001b[0;34m(\u001b[0m\u001b[0mtimeout\u001b[0m\u001b[0;34m)\u001b[0m\u001b[0;34m\u001b[0m\u001b[0;34m\u001b[0m\u001b[0m\n\u001b[0m\u001b[1;32m    440\u001b[0m \u001b[0;34m\u001b[0m\u001b[0m\n\u001b[1;32m    441\u001b[0m                 \u001b[0;32mif\u001b[0m \u001b[0mself\u001b[0m\u001b[0;34m.\u001b[0m\u001b[0m_state\u001b[0m \u001b[0;32min\u001b[0m \u001b[0;34m[\u001b[0m\u001b[0mCANCELLED\u001b[0m\u001b[0;34m,\u001b[0m \u001b[0mCANCELLED_AND_NOTIFIED\u001b[0m\u001b[0;34m]\u001b[0m\u001b[0;34m:\u001b[0m\u001b[0;34m\u001b[0m\u001b[0;34m\u001b[0m\u001b[0m\n",
            "\u001b[0;32m/usr/lib/python3.8/threading.py\u001b[0m in \u001b[0;36mwait\u001b[0;34m(self, timeout)\u001b[0m\n\u001b[1;32m    300\u001b[0m         \u001b[0;32mtry\u001b[0m\u001b[0;34m:\u001b[0m    \u001b[0;31m# restore state no matter what (e.g., KeyboardInterrupt)\u001b[0m\u001b[0;34m\u001b[0m\u001b[0;34m\u001b[0m\u001b[0m\n\u001b[1;32m    301\u001b[0m             \u001b[0;32mif\u001b[0m \u001b[0mtimeout\u001b[0m \u001b[0;32mis\u001b[0m \u001b[0;32mNone\u001b[0m\u001b[0;34m:\u001b[0m\u001b[0;34m\u001b[0m\u001b[0;34m\u001b[0m\u001b[0m\n\u001b[0;32m--> 302\u001b[0;31m                 \u001b[0mwaiter\u001b[0m\u001b[0;34m.\u001b[0m\u001b[0macquire\u001b[0m\u001b[0;34m(\u001b[0m\u001b[0;34m)\u001b[0m\u001b[0;34m\u001b[0m\u001b[0;34m\u001b[0m\u001b[0m\n\u001b[0m\u001b[1;32m    303\u001b[0m                 \u001b[0mgotit\u001b[0m \u001b[0;34m=\u001b[0m \u001b[0;32mTrue\u001b[0m\u001b[0;34m\u001b[0m\u001b[0;34m\u001b[0m\u001b[0m\n\u001b[1;32m    304\u001b[0m             \u001b[0;32melse\u001b[0m\u001b[0;34m:\u001b[0m\u001b[0;34m\u001b[0m\u001b[0;34m\u001b[0m\u001b[0m\n",
            "\u001b[0;31mKeyboardInterrupt\u001b[0m: "
          ]
        }
      ]
    },
    {
      "cell_type": "code",
      "source": [
        "path=classifier.cost_complexity_pruning_path(train_x,train_y)\n",
        "#path variable gives two things ccp_alphas and impurities\n",
        "ccp_alphas,impurities=path.ccp_alphas,path.impurities\n",
        "\n",
        "clfs=[]   #will store all the models here\n",
        "for ccp_alpha in ccp_alphas:\n",
        "    classifier=DecisionTreeClassifier(random_state=0,ccp_alpha=ccp_alpha)\n",
        "    classifier.fit(train_x,train_y)\n",
        "    clfs.append(classifier)\n",
        "\n",
        "\n",
        "train_scores = [clf.score(train_x, train_y) for clf in clfs]\n",
        "test_scores = [clf.score(test_x, test_y) for clf in clfs]\n",
        "fig, ax = plt.subplots()\n",
        "ax.set_xlabel(\"alpha\")\n",
        "ax.set_ylabel(\"accuracy\")\n",
        "ax.set_title(\"Accuracy vs alpha for training and testing sets\")\n",
        "ax.plot(ccp_alphas, train_scores, marker='o', label=\"train\",drawstyle=\"steps-post\")\n",
        "ax.plot(ccp_alphas, test_scores, marker='o', label=\"test\",drawstyle=\"steps-post\")\n",
        "ax.legend()\n",
        "plt.show()"
      ],
      "metadata": {
        "colab": {
          "base_uri": "https://localhost:8080/",
          "height": 295
        },
        "id": "ZEyBvEIwVUlo",
        "outputId": "293b3e31-fe92-438a-a17b-4822fb418202"
      },
      "execution_count": null,
      "outputs": [
        {
          "output_type": "display_data",
          "data": {
            "text/plain": [
              "<Figure size 432x288 with 1 Axes>"
            ],
            "image/png": "[encoded data removed]"
          },
          "metadata": {
            "needs_background": "light"
          }
        }
      ]
    },
    {
      "cell_type": "markdown",
      "source": [
        "Post Prunning"
      ],
      "metadata": {
        "id": "LnuKgvSWYwis"
      }
    },
    {
      "cell_type": "code",
      "source": [
        "from sklearn.svm import LinearSVC\n",
        "from sklearn.svm import SVC\n",
        "from sklearn.datasets import make_classification\n",
        "from sklearn.tree import DecisionTreeClassifier\n",
        "\n",
        "classifier=DecisionTreeClassifier(criterion='entropy',random_state=0,ccp_alpha=0.003)\n",
        "classifier.fit(train_x,train_y)"
      ],
      "metadata": {
        "colab": {
          "base_uri": "https://localhost:8080/"
        },
        "id": "uQLWXX5yYVe9",
        "outputId": "f756c168-7dae-4bdd-fd54-d0a733ba79a8"
      },
      "execution_count": null,
      "outputs": [
        {
          "output_type": "execute_result",
          "data": {
            "text/plain": [
              "DecisionTreeClassifier(ccp_alpha=0.003, criterion='entropy', random_state=0)"
            ]
          },
          "metadata": {},
          "execution_count": 21
        }
      ]
    },
    {
      "cell_type": "code",
      "source": [
        "from sklearn.svm import LinearSVC\n",
        "from sklearn.svm import SVC\n",
        "from sklearn.datasets import make_classification\n",
        "from sklearn.tree import DecisionTreeClassifier\n",
        "\n",
        "classifier=DecisionTreeClassifier(criterion= 'entropy',max_depth= 17,min_samples_leaf= 3,min_samples_split= 12,splitter= 'random')\n",
        "classifier.fit(train_x,train_y)"
      ],
      "metadata": {
        "colab": {
          "base_uri": "https://localhost:8080/"
        },
        "id": "PGqHEIXL9MY7",
        "outputId": "f156ec37-2eaa-45d4-cee2-15cbaa3f16d3"
      },
      "execution_count": null,
      "outputs": [
        {
          "output_type": "execute_result",
          "data": {
            "text/plain": [
              "DecisionTreeClassifier(criterion='entropy', max_depth=17, min_samples_leaf=3,\n",
              "                       min_samples_split=12, splitter='random')"
            ]
          },
          "metadata": {},
          "execution_count": 16
        }
      ]
    },
    {
      "cell_type": "code",
      "source": [
        "from google.colab import drive\n",
        "drive.mount('/content/drive')"
      ],
      "metadata": {
        "id": "2qhaBqS_bSmP",
        "outputId": "a4c9c23e-66a1-4126-9613-5662e7967595",
        "colab": {
          "base_uri": "https://localhost:8080/"
        }
      },
      "execution_count": 3,
      "outputs": [
        {
          "output_type": "stream",
          "name": "stdout",
          "text": [
            "Mounted at /content/drive\n"
          ]
        }
      ]
    }
  ]
}