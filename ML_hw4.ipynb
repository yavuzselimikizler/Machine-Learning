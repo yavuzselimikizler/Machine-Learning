{
  "nbformat": 4,
  "nbformat_minor": 0,
  "metadata": {
    "colab": {
      "provenance": [],
      "mount_file_id": "18sjxkfDVKVriY-FkHKx_WL2oRzUxHng3",
      "authorship_tag": "ABX9TyOSAeLmeg26ZYZHCpHG4wJP",
      "include_colab_link": true
    },
    "kernelspec": {
      "name": "python3",
      "display_name": "Python 3"
    },
    "language_info": {
      "name": "python"
    }
  },
  "cells": [
    {
      "cell_type": "markdown",
      "metadata": {
        "id": "view-in-github",
        "colab_type": "text"
      },
      "source": [
        "<a href=\"https://colab.research.google.com/github/yavuzselimikizler/Machine-Learning/blob/main/ML_hw4.ipynb\" target=\"_parent\"><img src=\"https://colab.research.google.com/assets/colab-badge.svg\" alt=\"Open In Colab\"/></a>"
      ]
    },
    {
      "cell_type": "code",
      "execution_count": null,
      "metadata": {
        "id": "VLz9fxGiG2Rt"
      },
      "outputs": [],
      "source": [
        "from keras.datasets import mnist\n",
        "import numpy as np\n",
        "import math \n",
        "\n",
        "from sklearn.datasets import make_blobs\n",
        "from sklearn.cluster import KMeans\n",
        "from sklearn.metrics import silhouette_score\n",
        "from sklearn.preprocessing import StandardScaler"
      ]
    },
    {
      "cell_type": "code",
      "source": [
        "(train_X, train_Y) ,(test_X, test_y)= mnist.load_data()"
      ],
      "metadata": {
        "id": "QBnpJhKUHLrI"
      },
      "execution_count": null,
      "outputs": []
    },
    {
      "cell_type": "code",
      "source": [
        "from sklearn.model_selection import StratifiedKFold\n",
        "full_data=np.array_split(train_X, 5)\n",
        "skf = StratifiedKFold(n_splits=5, shuffle=True, random_state=2)\n",
        "\n",
        "s1 = np.random.choice(range(len(train_X)), 60000, replace=False)\n",
        "\"\"\"for train_index in skf.split(train_X,train_Y):\n",
        "  print(len(train_index[0]))\"\"\"\n",
        "\"\"\"train_x=train_X[train_index,:,:]\n",
        "   train_x=train_Y[train_index,:,:]\"\"\"\n",
        "\n",
        "train_x=train_X[s1,:,:]\n",
        "train_y=train_Y[s1]\n",
        "print(len(train_x))\n",
        "#print(train_x[0])\n",
        "print(train_y[0])\n",
        "print(train_Y[0])\n",
        "#print(len(train_x))\n",
        "#print(len(train_y))"
      ],
      "metadata": {
        "colab": {
          "base_uri": "https://localhost:8080/"
        },
        "id": "UZq9WWmrHPET",
        "outputId": "51f2bc9f-041c-4dcb-d6d2-015ba6e2fba2"
      },
      "execution_count": null,
      "outputs": [
        {
          "output_type": "stream",
          "name": "stdout",
          "text": [
            "60000\n",
            "0\n",
            "5\n"
          ]
        }
      ]
    },
    {
      "cell_type": "code",
      "source": [
        "from sklearn.decomposition import PCA\n",
        "from sklearn.preprocessing import MinMaxScaler\n",
        "x_train=[]\n",
        "y_train=[]\n",
        "new_list=[]\n",
        "#print(train_x[0])\n",
        "for j in  train_x:\n",
        "  new_list.append(j.flatten())\n",
        "new_list=np.array(new_list)\n",
        "\n",
        "scaler = MinMaxScaler()\n",
        "new_list = scaler.fit_transform(new_list)\n",
        "#print(new_list[0])\n",
        "pca = PCA(n_components = 284)\n",
        "  \n",
        "x_train = pca.fit_transform(new_list)\n",
        "#x_train=PCA(new_list ,5)\n",
        "\n",
        "for i in range(len(new_list)):\n",
        "\n",
        " \n",
        " y_train.append(train_y[i])"
      ],
      "metadata": {
        "id": "yzGZtFA-HV0r"
      },
      "execution_count": null,
      "outputs": []
    },
    {
      "cell_type": "code",
      "source": [
        "from sklearn.model_selection import train_test_split\n",
        "\n",
        "data_train, data_test, labels_train, labels_test = train_test_split(x_train, y_train, test_size=0.20, random_state=42)\n",
        "data_train2, data_test2, labels_train2, labels_test2 = train_test_split(train_x, y_train, test_size=0.20, random_state=42)"
      ],
      "metadata": {
        "id": "TM45y66rHg5b"
      },
      "execution_count": null,
      "outputs": []
    },
    {
      "cell_type": "code",
      "source": [
        "\n",
        "kmeans = KMeans(\n",
        "   ...:     init=\"random\",\n",
        "   ...:     n_clusters=10,\n",
        "   ...:     n_init=10,\n",
        "   ...:     max_iter=300,\n",
        "   ...:     random_state=42\n",
        "   ...: )"
      ],
      "metadata": {
        "id": "DABGhWEUHrtA"
      },
      "execution_count": null,
      "outputs": []
    },
    {
      "cell_type": "code",
      "source": [
        "kmeans.fit(data_train)"
      ],
      "metadata": {
        "colab": {
          "base_uri": "https://localhost:8080/"
        },
        "id": "jJ-q5yY5ImAR",
        "outputId": "631357b4-2274-4e63-9a27-eaaf1a72a52c"
      },
      "execution_count": null,
      "outputs": [
        {
          "output_type": "execute_result",
          "data": {
            "text/plain": [
              "KMeans(init='random', n_clusters=10, random_state=42)"
            ]
          },
          "metadata": {},
          "execution_count": 59
        }
      ]
    },
    {
      "cell_type": "code",
      "source": [
        "full_labels=[]\n",
        "full_kmeans=[]\n",
        "max_index=0\n",
        "\n",
        "for i in range(0,10):\n",
        "  row_labels=[]\n",
        "  for j in range(len(labels_train)):\n",
        "    if i==labels_train[j]:\n",
        "      row_labels.append(j)\n",
        "  full_labels.append(row_labels)\n",
        "\n",
        "#full_labels=np.array(full_labels)\n",
        "for i in range(10):\n",
        "  print(labels_train[full_labels[2][i]])\n",
        "print(len(full_labels[1]))\n",
        "print(kmeans.labels_)\n",
        "#print(kmeans.labels_[0])\n",
        "\n",
        "for i in range(0,10):\n",
        "  row_labels=[]\n",
        "  for j in range(len(kmeans.labels_)):\n",
        "    if i==kmeans.labels_[j]:\n",
        "      row_labels.append(j)\n",
        "  full_kmeans.append(row_labels)\n",
        "\n",
        "for i in range(10):\n",
        "  print(kmeans.labels_[full_kmeans[2][i]])\n",
        "\n"
      ],
      "metadata": {
        "colab": {
          "base_uri": "https://localhost:8080/"
        },
        "id": "VI6-_k65Iu9X",
        "outputId": "65131ac4-6d9f-4903-cdb4-9cb2f117870b"
      },
      "execution_count": null,
      "outputs": [
        {
          "output_type": "stream",
          "name": "stdout",
          "text": [
            "2\n",
            "2\n",
            "2\n",
            "2\n",
            "2\n",
            "2\n",
            "2\n",
            "2\n",
            "2\n",
            "2\n",
            "5407\n",
            "[4 9 4 ... 5 6 2]\n",
            "2\n",
            "2\n",
            "2\n",
            "2\n",
            "2\n",
            "2\n",
            "2\n",
            "2\n",
            "2\n",
            "2\n"
          ]
        }
      ]
    },
    {
      "cell_type": "code",
      "source": [
        "full_labels=[]\n",
        "full_kmeans=[]\n",
        "max_index=0\n",
        "\n",
        "for i in range(0,10):\n",
        "  row_labels=[]\n",
        "  for j in range(len(labels_train)):\n",
        "    if i==labels_train[j]:\n",
        "      row_labels.append(j)\n",
        "  full_labels.append(row_labels)\n",
        "\n",
        "#full_labels=np.array(full_labels)\n",
        "\n",
        "#print(kmeans.labels_[0])\n",
        "\n",
        "for i in range(0,10):\n",
        "  row_labels=[]\n",
        "  for j in range(len(kmeans.labels_)):\n",
        "    if i==kmeans.labels_[j]:\n",
        "      row_labels.append(j)\n",
        "  full_kmeans.append(row_labels)\n",
        "\n",
        "\n",
        "train_labels_list=[]\n",
        "kmeans_labels_list=[]\n",
        "full_labels=np.array(full_labels)\n",
        "full_kmeans=np.array(full_kmeans)\n",
        "current_label=0\n",
        "current_kmeans=0\n",
        "deleted_k=0\n",
        "deleted_l=0\n",
        "while len(train_labels_list)<10:\n",
        "\n",
        "  max_value=0\n",
        "  for k in range(len(full_labels)):\n",
        "   for i in range(len(full_kmeans)):\n",
        "    value_counter=0\n",
        "\n",
        "    for j in range(len(full_kmeans[i])):\n",
        "      \n",
        "      \n",
        "      \n",
        "        if full_kmeans[i][j] in full_labels[k]:\n",
        "          value_counter+=1\n",
        "    if value_counter> max_value:\n",
        "      max_value=value_counter\n",
        "      current_label=full_labels[k][0]\n",
        "      current_kmeans=full_kmeans[i][0]\n",
        "      deleted_l=k\n",
        "      deleted_k=i\n",
        "\n",
        "  print(max_value)\n",
        "  train_labels_list.append(labels_train[current_label])\n",
        "  kmeans_labels_list.append(kmeans.labels_[current_kmeans])\n",
        "  full_labels=np.delete(full_labels,deleted_l,0)\n",
        "  full_kmeans=np.delete(full_kmeans,deleted_k,0)\n",
        "  print(len(full_labels))\n",
        "\n"
      ],
      "metadata": {
        "colab": {
          "base_uri": "https://localhost:8080/"
        },
        "id": "Xj3iJyXgZEf2",
        "outputId": "2651a23e-cbf7-4ddb-85e9-36b3f4dc9fe2"
      },
      "execution_count": null,
      "outputs": [
        {
          "output_type": "stream",
          "name": "stderr",
          "text": [
            "<ipython-input-60-3049b4af8422>:26: VisibleDeprecationWarning: Creating an ndarray from ragged nested sequences (which is a list-or-tuple of lists-or-tuples-or ndarrays with different lengths or shapes) is deprecated. If you meant to do this, you must specify 'dtype=object' when creating the ndarray.\n",
            "  full_labels=np.array(full_labels)\n",
            "<ipython-input-60-3049b4af8422>:27: VisibleDeprecationWarning: Creating an ndarray from ragged nested sequences (which is a list-or-tuple of lists-or-tuples-or ndarrays with different lengths or shapes) is deprecated. If you meant to do this, you must specify 'dtype=object' when creating the ndarray.\n",
            "  full_kmeans=np.array(full_kmeans)\n"
          ]
        },
        {
          "output_type": "stream",
          "name": "stdout",
          "text": [
            "3408\n",
            "9\n",
            "3295\n",
            "8\n",
            "3266\n",
            "7\n",
            "3091\n",
            "6\n",
            "3009\n",
            "5\n",
            "2924\n",
            "4\n",
            "2703\n",
            "3\n",
            "2596\n",
            "2\n",
            "1294\n",
            "1\n",
            "65\n",
            "0\n"
          ]
        }
      ]
    },
    {
      "cell_type": "code",
      "source": [
        "print(train_labels_list)\n",
        "print(kmeans_labels_list)"
      ],
      "metadata": {
        "colab": {
          "base_uri": "https://localhost:8080/"
        },
        "id": "N4umgCMOjXxm",
        "outputId": "91428cc7-708a-4dfb-ab80-e4fb4bf3d8f1"
      },
      "execution_count": null,
      "outputs": [
        {
          "output_type": "stream",
          "name": "stdout",
          "text": [
            "[0, 2, 6, 3, 7, 1, 8, 4, 5, 9]\n",
            "[9, 5, 6, 0, 2, 8, 3, 7, 4, 1]\n"
          ]
        }
      ]
    },
    {
      "cell_type": "code",
      "source": [
        "from sklearn.metrics import confusion_matrix, accuracy_score\n",
        "real_labels=[\n",
        "\n",
        "]\n",
        "\n",
        "for i in range(len(kmeans.labels_)):\n",
        "  for j in range(len(train_labels_list)):\n",
        "    if(kmeans.labels_[i]==kmeans_labels_list[j]):\n",
        "      real_labels.append(train_labels_list[j])\n",
        "\n",
        "\n",
        "a=accuracy_score(real_labels, labels_train)\n",
        "print(\"Current accuracy is {}%\".format(a*100))"
      ],
      "metadata": {
        "colab": {
          "base_uri": "https://localhost:8080/"
        },
        "id": "8dpYrWPDrQMB",
        "outputId": "87730f4d-9781-4316-8846-065e4d95cebe"
      },
      "execution_count": null,
      "outputs": [
        {
          "output_type": "stream",
          "name": "stdout",
          "text": [
            "Current accuracy is 53.43958333333333%\n"
          ]
        }
      ]
    },
    {
      "cell_type": "code",
      "source": [
        "from sklearn.neighbors import KNeighborsClassifier\n",
        "classifier=KNeighborsClassifier(n_neighbors=1)\n",
        "\n",
        "classifier.fit(data_train,real_labels)\n",
        "y_pred=classifier.predict(data_test)\n",
        "a=accuracy_score(labels_test, y_pred)\n",
        "print(\"Current accuracy is {}%\".format(a*100))"
      ],
      "metadata": {
        "colab": {
          "base_uri": "https://localhost:8080/"
        },
        "id": "g1q_dhU9uYvl",
        "outputId": "042584c4-0de6-4aad-d449-986e0a3cedff"
      },
      "execution_count": null,
      "outputs": [
        {
          "output_type": "stream",
          "name": "stdout",
          "text": [
            "Current accuracy is 54.449999999999996%\n"
          ]
        }
      ]
    }
  ]
}